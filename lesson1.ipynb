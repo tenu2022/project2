{
 "cells": [
  {
   "cell_type": "code",
   "execution_count": 3,
   "metadata": {},
   "outputs": [],
   "source": [
    "from gpiozero import RGBLED\n",
    "from time import sleep\n",
    "\n",
    "led = RGBLED(red=17, green=27, blue=22)\n",
    "led.red = 1  # full red\n",
    "sleep(1)\n",
    "led.red = 0.5  # half red\n",
    "sleep(1)\n",
    "\n",
    "led.color = (0, 1, 0)  # full green\n",
    "sleep(1)\n",
    "led.color = (1, 0, 1)  # magenta\n",
    "sleep(1)\n",
    "led.color = (1, 1, 0)  # yellow\n",
    "sleep(1)\n",
    "led.color = (0, 1, 1)  # cyan\n",
    "sleep(1)\n",
    "led.color = (1, 1, 1)  # white\n",
    "sleep(1)\n",
    "\n",
    "led.color = (0, 0, 0)  # off\n",
    "sleep(1)\n",
    "\n",
    "# slowly increase intensity of blue\n",
    "for n in range(100):\n",
    "    led.blue = n/100\n",
    "    sleep(0.1)\n",
    "    "
   ]
  }
 ],
 "metadata": {
  "kernelspec": {
   "display_name": "Python 3.9.2 ('venv02')",
   "language": "python",
   "name": "python3"
  },
  "language_info": {
   "codemirror_mode": {
    "name": "ipython",
    "version": 3
   },
   "file_extension": ".py",
   "mimetype": "text/x-python",
   "name": "python",
   "nbconvert_exporter": "python",
   "pygments_lexer": "ipython3",
   "version": "3.9.2"
  },
  "orig_nbformat": 4,
  "vscode": {
   "interpreter": {
    "hash": "b202f6b74e61d430a7542dd24393993127df451e3cf7a2a457a0e0782ea84f6d"
   }
  }
 },
 "nbformat": 4,
 "nbformat_minor": 2
}
